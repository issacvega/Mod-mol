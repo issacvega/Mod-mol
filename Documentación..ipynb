{
 "cells": [
  {
   "cell_type": "markdown",
   "metadata": {},
   "source": [
    "# Modelo Estadistico para Particulas Confinadas"
   ]
  },
  {
   "cell_type": "markdown",
   "metadata": {},
   "source": [
    "#### Ruben Santamarina, Antonio Alvarez de la Paz, Luke Roskop, Ludwik Adamowicz"
   ]
  },
  {
   "cell_type": "markdown",
   "metadata": {},
   "source": [
    "http://www.fisica.unam.mx/rso/my-articles/42-jour-stat-phys-164-p1000-1025-(2016).pdf"
   ]
  },
  {
   "cell_type": "markdown",
   "metadata": {},
   "source": [
    "# Introduction\n",
    "\n",
    "> <p style='text-align: justify;'>Los diferentes campos de la fisica describen sistemas de dierente naturaleza y tamaño.\n",
    "Uno de los campos fundamentales es la mecanica. En la version clasica de la mecanica, las variables clasicas como posicion, velocidad y tiempo requerido sirven para describir un sistema clasico de particulas[1]. En la version cuantica, la función de onda es dependiente del tiempo[2]. Debido a la complejidad de las ecuaciones de acoplamiento, se resuelven para describir la dinámica de partículas tanto clásica como cuántica.\n",
    "Los modelos de dinámica molecular están limitados a sistemas compuestos por un número relativamente pequeño de partículas.\n",
    "Con el fin de superar esta limitación, la mecánica estadística y la termodinámica se emplean rutinariamente para caracterizar sistemas que están compuestos de un gran número de partículas.\n",
    "La mecánica estadística y la termodinámica son válidas en el límite termodinámico, es decir, cuando el número de partículas se aproxima al infinito (N → ∞) y el sistema está en equilibrio termodinámico.\n",
    "Como resultado, se introducen conceptos adicionales tales como la temperatura, la entropía, la energía libre, etc., para describir el sistema en equilibrio termodinámico [3].\n",
    "Para un sistema de partículas compuesto por un gran número (N) de átomos, pero N << Na donde Na es el número de Avogadro, que está sumergido en un baño de calor (que toma la forma de un fluido), existen problemas tecnicos en aplicar la mecanica por el gran numero de átomos.\n",
    "En otras palabras, el uso de la mecánica para el sistema de partículas N más las partículas del fluido es impráctico en tal caso. Por otro lado, el sistema de N-partículas de interés no alcanza generalmente el límite termodinámico y, como resultado, se nos impide aplicar la mecánica estadística.\n",
    "El objetivo de este trabajo es cerrar la brecha mediante la descripción proporcionada por la mecánica mecánica y estadística en un modelo teórico.\n",
    "El enfoque propuesto abre la posibilidad de examinar sistemas compuestos de un número relativamente pequeño de partículas sujetas a los efectos de la presión y la temperatura para determinar, por ejemplo, sus \"estados termodinámicos\".\n",
    "La mecanica y mecanica estadistica se combinan para obtener las ecuaciones generlas de movimiento en las cuales las variables basicas como son (posicion, velocidad, funcion de onda y tiempo) y las funciones basicas de la mecanica estadistica (funciones de distribucion) se combinan para describir la mecanica del sistema.\n",
    "Este trabajo se aparta de los esfuerzos iniciales presentados en la Ref. [4], donde algunas de las ecuaciones básicas fueron proporcionados e ilustrados con la descripción de la dinámica de un conjunto de compuestos biológicos en confinamiento semejante al experimento Miller-Urey. La investigación difiere de otras obras que describen sistemas de partículas bajo presión y temperatura, ya que estas últimas usan grados adicionales de libertad (asociados a partículas ficticias) con ecuaciones de movimiento que simplemente no son derivables de hamiltonianos físicos y que trabajan en lo que se llama La teoría hamiltoniana extendida [5, 6]. Aquí se proporciona una descripción mecánica para un gran conjunto de partículas fluidas que se transforma en términos de mecánica estadística y sin introducir grados de libertad adicionales que los estrictamente requeridos por el sistema de partículas. Cuando el número de partículas sumergidas en el baño de calor es grande y alcanza dimensiones macroscópicas, la formulación que se presenta es consistente con el principio de Archimides.\n",
    "  \n",
    "\n",
    "The dynamic equations obtained in the present work are of general type and exhibit a natural\n",
    "link between the mechanical description and the statistical mechanical description. In this\n",
    "respect, the statistical temperature of the environment corresponds to the mechanical tem-\n",
    "123\n",
    "1002 R. Santamaria et al.\n",
    "perature of the molecular system. Additionally, the energy exchange between the mechanical\n",
    "and statistical parts of the system satisfy, on one hand, the relevant fluctuation-dissipation\n",
    "relations which are implicitly integrated in the general equations of motion and, on the other\n",
    "hand, the fundamental principles of thermodynamics.\n",
    "The discussion starts from a pure mechanical model involving a “pressure cooker” device\n",
    "submerged in a thermal fluid. The model is used to simulate the effects of temperature and\n",
    "confinement on a system of atoms. It is important to note that the temperature and pressure\n",
    "represent physical variables that can alter the structure and dynamic behavior of the molecules\n",
    "formed by the atoms [7–12]. By changing the temperature and the pressure it is possible to\n",
    "produce various crystalline structures of the system, to investigate different reaction channels\n",
    "of the interacting molecules, to study phase transitions, and to create new compounds and\n",
    "materials which may have useful applications [13–16]. This particular area of science is given\n",
    "the name of boxed chemistry [17]. A theoretical model that considers molecules under the\n",
    "effects of temperature and confinement, like the one presented herein, is useful because it\n",
    "simulates experiments involving molecules placed under thermodynamic conditions often\n",
    "used in the laboratory [18].\n",
    "\n",
    "Different fields of physics are appropriate to describe systems of different nature and sizes.\n",
    "One of the most fundamental fields is mechanics. In the classical version of mechanics,\n",
    "the basic variables of position, velocity, and time are required to describe the dynamics\n",
    "of a system of particles [1]. In the quantum version of mechanics, a wave function that\n",
    "is dependent on time is used instead [2]. Due to the complexity of the coupled equations\n",
    "that are solved to describe the particle dynamics, both classical and quantum molecular\n",
    "dynamics models are limited to systems comprised of a relatively small number of particles\n",
    "(a few thousand atoms using quantum molecular dynamics models, and about a million atoms\n",
    "using classical molecular dynamics models employing the present-day supercomputers). In\n",
    "order to overcome this limitation, statistical mechanics and thermodynamics are routinely\n",
    "employed to characterize systems that are comprised of a large number of particles. Statistical\n"
   ]
  },
  {
   "cell_type": "markdown",
   "metadata": {},
   "source": [
    "### EL LAGRANGIANO\n",
    "\n",
    "En el modelo presente la olla de presion es sinónimo de contenedor con una estructura atomica. Las moelculas dentro del contenedor (formando una sopa). Las interacciones átomo por átomo dentro del contenedor da a lugar una presion mecanica dentro de el. El contenedor está inmerso en un fluido, que se asume que también tiene una estructura atomica y forma el baño de calor. La temperatura esta confinado por"
   ]
  },
  {
   "cell_type": "markdown",
   "metadata": {},
   "source": [
    "$$\\ L = \\sum\\limits_{i}\\frac{m_{i}}{2}\\frac{d}{{dt}}x^2_{i} + \\sum\\limits_{i}\\sum\\limits_{j}\\frac{m_{ij}}{2}\\frac{d}{{dt}} q^2_{ij} + \\sum\\limits_{i}\\frac{m'_{i}}{2}\\frac{d}{{dt}}s^2_{i} -V\\left({q_{ij}, x_{i}}\\right)-\\sum\\limits_{j}\\frac{k_{j}}{2}\\left({x_{j}-x^0_{j}}\\right)^2 - U\\left({x_{i}, s_{j}}\\right) - V\\left({x_{i}, s_{j}}\\right). [1]$$\n",
    "\n",
    "###### corregir la primera V de la ecuacion y las derivadas y sub indices\n",
    "\n"
   ]
  },
  {
   "cell_type": "markdown",
   "metadata": {
    "collapsed": true
   },
   "source": [
    "Las particulas y sus coordenadas cartesianas son descritas por el subindice i. Tres conjuntos de particulas diferentes son descritas por el lagrangiano. Las particulas con coordenadas qij pertencen al baño de calor, las particulas con coordenadas xi forman el recipiente inmerso en el baño de calor, las particulas con coordenadas si estan localizadas dentro del contenedor. Las interacciones entre los atomos del baño y los atomos del contenedor se separan en grupos.\n",
    "La agrupación de las interacciones es la razón por la que cada coordenada qij tiene dos índices con el índice i son el número de  átomos del contenedor y el índice j siendo el número de átomos del baño.\n",
    "En este esquema, cada particula del contenedor es conciderada como si estuviera en contacto con su propio baño de calor. \n",
    "Sin embargo, los baños termicos de todas las particulas pueden hacerse para satisfacer la misma uniformidad en las condiciones como temperatura y viscosidad, convirtiéndose así en el mismo baño de calor para todas las partículas en la simulación(este procedimiento se describe en una seccion posterior). La masa de la partícula del recipiente qi j es mi j. Es diferente de la masa mji, ya que este último se refiere a la j-ésima partícula del recipiente ya la i-ésima partícula del baño.\n",
    "\n",
    "\n",
    "The use of the double subindex of the mass is to keep it consistent with the qi j designation of the particle and should not be\n",
    "confused with a reduced mass. The ith particle of the container has mass mi and the mass\n",
    "of the ith particle located inside the container is m\u0005\n",
    "i . The first three terms in L represent the\n",
    "kinetic energies of the three types of particles. The following terms represent the interactions.\n",
    "The potential V describes the interaction of the bath atoms with the container atoms:"
   ]
  },
  {
   "cell_type": "markdown",
   "metadata": {},
   "source": [
    "$$\\ V\\left([{α_{i}}\\right]) = \\left[ V\\left({a_{i}}\\right)+\\sum\\limits_{i}\\frac{d}{dα_{i}}V\\left([{α_{i}}\\right]){a_{i}} + \\frac{1}{2!} \\sum\\limits_{ij}\\frac{d^2}{dα_{i}dα_{j}}\\ V\\left([{α_{i}}\\right]){α_{i}}{α_{j}} + \\frac{1}{3!} \\sum\\limits_{ij}\\frac{d^3}{dα_{i}dα_{j}dα_{k}}\\ V\\left([{α_{i}}\\right]){α_{i}}{α_{j}}{α_{k}}+...\\right] _{[α^0_{i}]} [2]$$\n"
   ]
  },
  {
   "cell_type": "markdown",
   "metadata": {},
   "source": [
    "###### corregir la primera V de la ecuacion y las derivadas y subindices"
   ]
  },
  {
   "cell_type": "markdown",
   "metadata": {},
   "source": [
    "El potencial tiene una forma de series de potencia en posiciones instantaneas, que en esta expresion de forma generica tiene dorma de αi. Las cantidades ## αi0 son las posiciones de referencia. \n",
    "En la aproximacion armónica, los términos de segundo orden dominan y los términos de orden superior, que describen las contribuciones anharmónicas, se descuidan: "
   ]
  },
  {
   "cell_type": "markdown",
   "metadata": {},
   "source": [
    "$$ V\\left([{α_{i}}\\right])=\\frac{1}{2}\\sum\\limits_{i,j}\\frac{{d^2}{V\\left([{α_{i}}\\right])}}{{dα_{i}dα_{j}}}{α_{i}α_{j}} \\mid \\ _{[α^0_{i}]} \\ [3] $$\n"
   ]
  },
  {
   "cell_type": "markdown",
   "metadata": {
    "collapsed": true
   },
   "source": [
    "La expresión anterior resulta de una linealización del potencial V en las variables de posición αi [19]. En el actual modelo, la interaccion del potencial V acopla linealmente las partículas xi con los osciladores armónicos del baño de calor [20,21]"
   ]
  },
  {
   "cell_type": "markdown",
   "metadata": {
    "collapsed": true
   },
   "source": [
    "$$ V\\left([{α_{i}}\\right])=\\frac{1}{2}\\sum\\limits_{i,j}\\frac{{d^2}{V\\left([{α_{i}}\\right])}}{{dα_{i}dα_{j}}}{α_{i}α_{j}} |\\ _{[α^0_{i}]} \\simeq \\sum\\limits_{i,j}\\left[{\\frac{m_{ij}w^2_{ij}}{2}}{q^2_{ij}}-{c_{ij}}\\ q_{ij}\\ x_{i} + \\frac{c^2_{ij}}{2m_{ij}w^2_{ij}} x^2_{i} \\right]   [4]$$"
   ]
  },
  {
   "cell_type": "code",
   "execution_count": null,
   "metadata": {
    "collapsed": true
   },
   "outputs": [],
   "source": []
  },
  {
   "cell_type": "markdown",
   "metadata": {
    "collapsed": true
   },
   "source": [
    "$$\\ L =\\sum\\limits_{i}\\frac{m_{i}}{2}\\frac{d}{{dt}}x^2_{i} + \\sum\\limits_{i}\\sum\\limits_{j}\\frac{m_{ij}}{2}\\frac{d}{{dt}} q^2_{ij} + \\sum\\limits_{i}\\frac{m'_{i}}{2}\\frac{d}{{dt}}s^2_{i} - \\sum\\limits_{i,j}\\left[{\\frac{m_{ij}w^2_{ij}}{2}}{q^2_{ij}}-{c_{ij}}\\ q_{ij}\\ x_{i} + \\frac{c^2_{ij}}{2m_{ij}w^2_{ij}} x^2_{i} \\right]- \\sum\\limits_{j}\\frac{k_{j}}{2}\\left({x_{j}-x^0_{j}}\\right)^2 - U\\left({x_{i}, s_{j}}\\right) - V\\left({x_{i}, s_{j}}\\right)  [5]$$\n",
    "\n",
    "## checar las derivadas"
   ]
  },
  {
   "cell_type": "markdown",
   "metadata": {},
   "source": []
  },
  {
   "cell_type": "markdown",
   "metadata": {},
   "source": [
    "$$ H\\psi\\left([{x_{i}, s_{j}}\\right])= E\\psi\\left([{x_{i}, s_{j}}\\right]); \\\\ U\\left([{x_{i}\\left({t}\\right), s_{j}\\left({t}right)}\\right]) $$"
   ]
  },
  {
   "cell_type": "code",
   "execution_count": null,
   "metadata": {
    "collapsed": true
   },
   "outputs": [],
   "source": []
  }
 ],
 "metadata": {
  "anaconda-cloud": {},
  "kernelspec": {
   "display_name": "Python [default]",
   "language": "python",
   "name": "python3"
  },
  "language_info": {
   "codemirror_mode": {
    "name": "ipython",
    "version": 3
   },
   "file_extension": ".py",
   "mimetype": "text/x-python",
   "name": "python",
   "nbconvert_exporter": "python",
   "pygments_lexer": "ipython3",
   "version": "3.5.2"
  }
 },
 "nbformat": 4,
 "nbformat_minor": 1
}
